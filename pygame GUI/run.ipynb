{
 "cells": [
  {
   "cell_type": "code",
   "execution_count": 1,
   "id": "5efacc29-a3b1-46d9-a81d-95971b866d4d",
   "metadata": {
    "tags": []
   },
   "outputs": [
    {
     "ename": "ModuleNotFoundError",
     "evalue": "No module named 'component'",
     "output_type": "error",
     "traceback": [
      "\u001b[1;31m---------------------------------------------------------------------------\u001b[0m",
      "\u001b[1;31mModuleNotFoundError\u001b[0m                       Traceback (most recent call last)",
      "Cell \u001b[1;32mIn[1], line 1\u001b[0m\n\u001b[1;32m----> 1\u001b[0m \u001b[38;5;28;01mfrom\u001b[39;00m \u001b[38;5;21;01mcomponent\u001b[39;00m \u001b[38;5;28;01mimport\u001b[39;00m InputBox, question, title\n\u001b[0;32m      2\u001b[0m \u001b[38;5;28;01mfrom\u001b[39;00m \u001b[38;5;21;01mgui\u001b[39;00m \u001b[38;5;28;01mimport\u001b[39;00m run_main\n\u001b[0;32m      3\u001b[0m \u001b[38;5;28;01mimport\u001b[39;00m \u001b[38;5;21;01mpygame\u001b[39;00m \u001b[38;5;28;01mas\u001b[39;00m \u001b[38;5;21;01mpg\u001b[39;00m\n",
      "\u001b[1;31mModuleNotFoundError\u001b[0m: No module named 'component'"
     ]
    }
   ],
   "source": [
    "import Sraper\n",
    "from Game import all_question, game\n",
    "from component import InputBox, question, title\n",
    "from gui import run_main\n",
    "\n",
    "# import pygame as pg\n",
    "# import urllib.request \n",
    "# from PIL import Image\n",
    "# import pandas as pd\n",
    "# import sqlite3 "
   ]
  },
  {
   "cell_type": "code",
   "execution_count": null,
   "id": "e06c781a-46e3-401b-abdc-fb348048bc53",
   "metadata": {},
   "outputs": [],
   "source": [
    "Sraper.clean_data()\n",
    "Sraper.game_pics()"
   ]
  },
  {
   "cell_type": "code",
   "execution_count": null,
   "id": "de74b858-e755-4ab8-8cd7-975e31591d9e",
   "metadata": {},
   "outputs": [],
   "source": [
    "run_main.variables()\n",
    "run_main.main()"
   ]
  }
 ],
 "metadata": {
  "kernelspec": {
   "display_name": "Python [conda env:PIC16B-3] *",
   "language": "python",
   "name": "conda-env-PIC16B-3-py"
  },
  "language_info": {
   "codemirror_mode": {
    "name": "ipython",
    "version": 3
   },
   "file_extension": ".py",
   "mimetype": "text/x-python",
   "name": "python",
   "nbconvert_exporter": "python",
   "pygments_lexer": "ipython3",
   "version": "3.11.6"
  }
 },
 "nbformat": 4,
 "nbformat_minor": 5
}
